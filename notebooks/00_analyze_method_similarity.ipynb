{
 "cells": [
  {
   "cell_type": "markdown",
   "metadata": {},
   "source": [
    "# Imports"
   ]
  },
  {
   "cell_type": "code",
   "execution_count": null,
   "metadata": {},
   "outputs": [],
   "source": [
    "import json\n",
    "import pandas as pd\n",
    "import matplotlib.pyplot as plt\n",
    "import plotly.express as px\n",
    "from sklearn.feature_extraction.text import TfidfVectorizer\n",
    "from sklearn.metrics.pairwise import cosine_similarity\n",
    "from sklearn.decomposition import PCA\n",
    "from sklearn.manifold import TSNE\n",
    "from transformers import CLIPTokenizer, CLIPModel\n",
    "from sentence_transformers import SentenceTransformer\n",
    "import Levenshtein\n",
    "import numpy as np\n",
    "import torch"
   ]
  },
  {
   "cell_type": "markdown",
   "metadata": {},
   "source": [
    "# Load data"
   ]
  },
  {
   "cell_type": "code",
   "execution_count": null,
   "metadata": {},
   "outputs": [],
   "source": [
    "with open('../data/pwc/methods.json', 'r') as f:\n",
    "    methods_data = json.load(f)"
   ]
  },
  {
   "cell_type": "code",
   "execution_count": null,
   "metadata": {},
   "outputs": [],
   "source": [
    "methods_data[0]"
   ]
  },
  {
   "cell_type": "markdown",
   "metadata": {},
   "source": [
    "# Filter data"
   ]
  },
  {
   "cell_type": "markdown",
   "metadata": {},
   "source": [
    "For the analysis I use the 'name' and 'description' of the mathods that belong to exactly one collection and that collection is not 'General'"
   ]
  },
  {
   "cell_type": "code",
   "execution_count": null,
   "metadata": {},
   "outputs": [],
   "source": [
    "flat_data = []\n",
    "for item in methods_data:\n",
    "    if len(item[\"collections\"]) == 1:\n",
    "        area = item[\"collections\"][0][\"area\"]\n",
    "        if area != 'General':\n",
    "            flat_data.append({\n",
    "                \"name\": item[\"name\"],\n",
    "                \"description\": item[\"description\"],\n",
    "                \"area\": area\n",
    "            })"
   ]
  },
  {
   "cell_type": "code",
   "execution_count": null,
   "metadata": {},
   "outputs": [],
   "source": [
    "len(flat_data)"
   ]
  },
  {
   "cell_type": "code",
   "execution_count": null,
   "metadata": {},
   "outputs": [],
   "source": [
    "df = pd.DataFrame(flat_data)"
   ]
  },
  {
   "cell_type": "markdown",
   "metadata": {},
   "source": [
    "This is the final amount of data left after filtering"
   ]
  },
  {
   "cell_type": "code",
   "execution_count": null,
   "metadata": {},
   "outputs": [],
   "source": [
    "df['area'].value_counts()"
   ]
  },
  {
   "cell_type": "markdown",
   "metadata": {},
   "source": [
    "# Define the embeddings"
   ]
  },
  {
   "cell_type": "markdown",
   "metadata": {},
   "source": [
    "TF-IDF"
   ]
  },
  {
   "cell_type": "code",
   "execution_count": null,
   "metadata": {},
   "outputs": [],
   "source": [
    "def compute_tfidf(text_list):\n",
    "    vectorizer = TfidfVectorizer(stop_words='english', max_features=3000, sublinear_tf=True)\n",
    "    vectors = vectorizer.fit_transform(text_list)\n",
    "    return vectors.toarray()"
   ]
  },
  {
   "cell_type": "markdown",
   "metadata": {},
   "source": [
    "Sentence-BERT embedding"
   ]
  },
  {
   "cell_type": "code",
   "execution_count": null,
   "metadata": {},
   "outputs": [],
   "source": [
    "model_bert = SentenceTransformer('all-MiniLM-L6-v2')\n",
    "\n",
    "def compute_sentence_embeddings(text_list, batch_size=256):\n",
    "    embeddings = []\n",
    "    text_list = [text.strip() for text in text_list]\n",
    "\n",
    "    for i in range(0, len(text_list), batch_size):\n",
    "        batch = text_list[i:i + batch_size]\n",
    "        batch_embeddings = model_bert.encode(batch)\n",
    "        embeddings.append(batch_embeddings)\n",
    "\n",
    "    # Concatenate all batch embeddings\n",
    "    return np.vstack(embeddings)"
   ]
  },
  {
   "cell_type": "markdown",
   "metadata": {},
   "source": [
    "OpenAI CLIP embedding"
   ]
  },
  {
   "cell_type": "code",
   "execution_count": null,
   "metadata": {},
   "outputs": [],
   "source": [
    "model_clip = CLIPModel.from_pretrained(\"openai/clip-vit-base-patch32\")\n",
    "tokenizer = CLIPTokenizer.from_pretrained(\"openai/clip-vit-base-patch32\")\n",
    "\n",
    "def compute_clip_embeddings(text_list, batch_size=256):\n",
    "    embeddings = []\n",
    "    for i in range(0, len(text_list), batch_size):\n",
    "        batch = text_list[i:i + batch_size]\n",
    "        inputs = tokenizer(batch, padding=True, truncation=True, return_tensors=\"pt\")\n",
    "        with torch.no_grad():\n",
    "            batch_embeddings = model_clip.get_text_features(**inputs).cpu().numpy()\n",
    "        embeddings.append(batch_embeddings)\n",
    "    return np.vstack(embeddings)"
   ]
  },
  {
   "cell_type": "markdown",
   "metadata": {},
   "source": [
    "# Calculate the embeddings"
   ]
  },
  {
   "cell_type": "code",
   "execution_count": null,
   "metadata": {},
   "outputs": [],
   "source": [
    "names = df['name'].tolist()\n",
    "descriptions = df['description'].tolist()"
   ]
  },
  {
   "cell_type": "code",
   "execution_count": null,
   "metadata": {},
   "outputs": [],
   "source": [
    "names_tfidf = compute_tfidf(names)\n",
    "descriptions_tfidf = compute_tfidf(descriptions)\n"
   ]
  },
  {
   "cell_type": "code",
   "execution_count": null,
   "metadata": {},
   "outputs": [],
   "source": [
    "sentence_embeddings_names = compute_sentence_embeddings(names)\n",
    "sentence_embeddings_descriptions = compute_sentence_embeddings(descriptions)"
   ]
  },
  {
   "cell_type": "code",
   "execution_count": null,
   "metadata": {},
   "outputs": [],
   "source": [
    "clip_embeddings_names = compute_clip_embeddings(names)\n",
    "clip_embeddings_descriptions = compute_clip_embeddings(descriptions)"
   ]
  },
  {
   "cell_type": "markdown",
   "metadata": {},
   "source": [
    "# Reduce dimensionality for the plot"
   ]
  },
  {
   "cell_type": "code",
   "execution_count": null,
   "metadata": {},
   "outputs": [],
   "source": [
    "def reduce_dimensionality(embeddings, method='pca'):\n",
    "    if method == 'pca':\n",
    "        pca = PCA(n_components=2)\n",
    "        reduced = pca.fit_transform(embeddings)\n",
    "    elif method == 'tsne':\n",
    "        tsne = TSNE(n_components=2, random_state=42)\n",
    "        reduced = tsne.fit_transform(embeddings)\n",
    "    return reduced"
   ]
  },
  {
   "cell_type": "code",
   "execution_count": null,
   "metadata": {},
   "outputs": [],
   "source": [
    "reduced_names_tfids = reduce_dimensionality(names_tfidf, method='tsne')\n",
    "reduced_descriptions_tfidf = reduce_dimensionality(descriptions_tfidf, method='tsne')"
   ]
  },
  {
   "cell_type": "code",
   "execution_count": null,
   "metadata": {},
   "outputs": [],
   "source": [
    "reduced_embeddings_names = reduce_dimensionality(sentence_embeddings_names, method='tsne')\n",
    "reduced_embeddings_descriptions = reduce_dimensionality(sentence_embeddings_descriptions, method='tsne')"
   ]
  },
  {
   "cell_type": "code",
   "execution_count": null,
   "metadata": {},
   "outputs": [],
   "source": [
    "reduced_clip_names = reduce_dimensionality(clip_embeddings_names, method='tsne')\n",
    "reduced_clip_descriptions = reduce_dimensionality(clip_embeddings_descriptions, method='tsne')"
   ]
  },
  {
   "cell_type": "markdown",
   "metadata": {},
   "source": [
    "# Plot"
   ]
  },
  {
   "cell_type": "code",
   "execution_count": null,
   "metadata": {},
   "outputs": [],
   "source": [
    "def plot_embeddings(embeddings, color_by, title, color_map):\n",
    "    plt.figure(figsize=(15, 5))\n",
    "    # Convert color_by into a categorical type and get unique categories\n",
    "    categories = pd.Categorical(color_by)\n",
    "    category_codes = categories.codes\n",
    "    category_labels = categories.categories\n",
    "    # Create scatter plot\n",
    "    scatter = plt.scatter(embeddings[:, 0], embeddings[:, 1], c=category_codes, cmap=color_map, marker='.')\n",
    "    plt.title(title)\n",
    "    plt.xlabel(\"Dimension 1\")\n",
    "    plt.ylabel(\"Dimension 2\")\n",
    "    # Create a custom legend\n",
    "    unique_categories = np.unique(category_codes)\n",
    "    legend_elements = [plt.Line2D([0], [0], marker='o', color='w', markerfacecolor=scatter.cmap(scatter.norm(code)), markersize=10) for code in unique_categories]\n",
    "    # Set ticks inside the plot and make them thicker\n",
    "    plt.tick_params(axis='both', direction='in', which='both', width=1)\n",
    "    \n",
    "    filename = title.lower().replace(' ', '_')\n",
    "    plt.legend(legend_elements, category_labels, title=\"Research area\", loc=\"upper right\")\n",
    "    plt.savefig(f\"../plots/rq1/{filename}.svg\", format=\"svg\")\n",
    "    plt.savefig(f\"../plots/rq1/{filename}.png\", format=\"png\", dpi=300)\n",
    "    plt.savefig(f\"../plots/rq1/{filename}.pdf\", format=\"pdf\")\n",
    "    plt.show()"
   ]
  },
  {
   "cell_type": "markdown",
   "metadata": {},
   "source": [
    "## Plot TF-IDF Embeddings"
   ]
  },
  {
   "cell_type": "code",
   "execution_count": null,
   "metadata": {},
   "outputs": [],
   "source": [
    "plot_embeddings(reduced_names_tfids, df['area'], 'Method Names — TF-IDF Embeddings — t-SNE', 'plasma')\n",
    "plot_embeddings(reduced_descriptions_tfidf, df['area'], 'Method Descriptions — TF-IDF Embeddings — t-SNE', 'plasma')"
   ]
  },
  {
   "cell_type": "markdown",
   "metadata": {},
   "source": [
    "## Plot Sentence-BERT Embeddings "
   ]
  },
  {
   "cell_type": "code",
   "execution_count": null,
   "metadata": {},
   "outputs": [],
   "source": [
    "plot_embeddings(reduced_embeddings_names, df['area'], 'Method Names — Sentence-BERT Embeddings — t-SNE', 'plasma')\n",
    "plot_embeddings(reduced_embeddings_descriptions, df['area'], 'Method Descriptions — Sentence-BERT Embeddings — t-SNE', 'plasma')"
   ]
  },
  {
   "cell_type": "markdown",
   "metadata": {},
   "source": [
    "## Plot CLIP Embeddings"
   ]
  },
  {
   "cell_type": "code",
   "execution_count": null,
   "metadata": {},
   "outputs": [],
   "source": [
    "plot_embeddings(reduced_clip_names, df['area'], 'Method Names — CLIP Embeddings — t-SNE', 'plasma')\n",
    "plot_embeddings(reduced_clip_descriptions, df['area'], 'Method Descriptions — CLIP Embeddings — t-SNE', 'plasma')"
   ]
  },
  {
   "cell_type": "code",
   "execution_count": null,
   "metadata": {},
   "outputs": [],
   "source": [
    "from sklearn.metrics import silhouette_score, calinski_harabasz_score, davies_bouldin_score\n"
   ]
  },
  {
   "cell_type": "code",
   "execution_count": null,
   "metadata": {},
   "outputs": [],
   "source": [
    "def evaluate_clustering_metrics(X, y, embedding_name, source_text):\n",
    "    print(f'Clustering metrics for {embedding_name} - {source_text}:')\n",
    "    # Calculate metrics\n",
    "    silhouette_avg = silhouette_score(X, y)\n",
    "    calinski_harabasz = calinski_harabasz_score(X, y)\n",
    "    davies_bouldin = davies_bouldin_score(X, y)\n",
    "    \n",
    "    # Return results in a dictionary\n",
    "    metrics = {\n",
    "        'Silhouette Score': silhouette_avg,\n",
    "        'Calinski-Harabasz Index': calinski_harabasz,\n",
    "        'Davies-Bouldin Index': davies_bouldin\n",
    "    }\n",
    "    \n",
    "    table = [[\"Metric\", \"Score\"]]\n",
    "    for metric, score in metrics.items():\n",
    "        table.append([metric, f\"{score:.4f}\"])\n",
    "    \n",
    "    print(f'Clustering metrics for {embedding_name} - {source_text}:')\n",
    "    print(f'Silhouette Score: {silhouette_avg:.4f}')\n",
    "    print(f'Calinski-Harabasz Index: {calinski_harabasz:.4f}')\n",
    "    print(f'Davies-Bouldin Index: {davies_bouldin:.4f}')\n",
    "\n"
   ]
  },
  {
   "cell_type": "code",
   "execution_count": null,
   "metadata": {},
   "outputs": [],
   "source": [
    "evaluate_clustering_metrics(reduced_names_tfids, df['area'], 'TF-IDF', 'Names')"
   ]
  },
  {
   "cell_type": "code",
   "execution_count": null,
   "metadata": {},
   "outputs": [],
   "source": [
    "evaluate_clustering_metrics(reduced_descriptions_tfidf, df['area'], 'TF-IDF', 'Descriptions')"
   ]
  },
  {
   "cell_type": "code",
   "execution_count": null,
   "metadata": {},
   "outputs": [],
   "source": [
    "evaluate_clustering_metrics(reduced_embeddings_names, df['area'], 'BERT', 'Names')"
   ]
  },
  {
   "cell_type": "code",
   "execution_count": null,
   "metadata": {},
   "outputs": [],
   "source": [
    "evaluate_clustering_metrics(reduced_embeddings_descriptions, df['area'], 'BERT', 'Descriptions')"
   ]
  },
  {
   "cell_type": "code",
   "execution_count": null,
   "metadata": {},
   "outputs": [],
   "source": [
    "evaluate_clustering_metrics(reduced_clip_names, df['area'], 'CLIP', 'Names')"
   ]
  },
  {
   "cell_type": "code",
   "execution_count": null,
   "metadata": {},
   "outputs": [],
   "source": [
    "evaluate_clustering_metrics(reduced_clip_descriptions, df['area'], 'CLIP', 'Descriptions')"
   ]
  }
 ],
 "metadata": {
  "kernelspec": {
   "display_name": "Python 3",
   "language": "python",
   "name": "python3"
  },
  "language_info": {
   "codemirror_mode": {
    "name": "ipython",
    "version": 3
   },
   "file_extension": ".py",
   "mimetype": "text/x-python",
   "name": "python",
   "nbconvert_exporter": "python",
   "pygments_lexer": "ipython3",
   "version": "3.10.12"
  }
 },
 "nbformat": 4,
 "nbformat_minor": 4
}
