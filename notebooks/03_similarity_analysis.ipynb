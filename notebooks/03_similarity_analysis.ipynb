{
 "cells": [
  {
   "cell_type": "markdown",
   "metadata": {},
   "source": [
    "# Imports"
   ]
  },
  {
   "cell_type": "code",
   "execution_count": null,
   "metadata": {},
   "outputs": [],
   "source": [
    "import json\n",
    "import pandas as pd\n",
    "import numpy as np\n",
    "import matplotlib.pyplot as plt\n",
    "from sklearn.decomposition import PCA\n",
    "from sklearn.manifold import TSNE\n",
    "import plotly.express as px\n",
    "from sklearn.feature_extraction.text import TfidfVectorizer\n",
    "from transformers import CLIPTokenizer, CLIPModel\n",
    "from sentence_transformers import SentenceTransformer\n",
    "import torch\n",
    "import numpy as np"
   ]
  },
  {
   "cell_type": "code",
   "execution_count": null,
   "metadata": {},
   "outputs": [],
   "source": [
    "model_bert = SentenceTransformer('all-MiniLM-L6-v2')\n",
    "model_clip = CLIPModel.from_pretrained(\"openai/clip-vit-base-patch32\")\n",
    "tokenizer = CLIPTokenizer.from_pretrained(\"openai/clip-vit-base-patch32\")"
   ]
  },
  {
   "cell_type": "code",
   "execution_count": null,
   "metadata": {},
   "outputs": [],
   "source": [
    "def compute_tfidf(text_list):\n",
    "    vectorizer = TfidfVectorizer(stop_words='english', max_features=3000, sublinear_tf=True)\n",
    "    vectors = vectorizer.fit_transform(text_list)\n",
    "    return vectors.toarray()"
   ]
  },
  {
   "cell_type": "code",
   "execution_count": null,
   "metadata": {},
   "outputs": [],
   "source": [
    "def compute_sentence_embeddings(text_list, batch_size=256):\n",
    "    embeddings = []\n",
    "    text_list = [text.strip() for text in text_list]\n",
    "\n",
    "    for i in range(0, len(text_list), batch_size):\n",
    "        batch = text_list[i:i + batch_size]\n",
    "        batch_embeddings = model_bert.encode(batch)\n",
    "        embeddings.append(batch_embeddings)\n",
    "\n",
    "    # Concatenate all batch embeddings\n",
    "    return np.vstack(embeddings)\n"
   ]
  },
  {
   "cell_type": "code",
   "execution_count": null,
   "metadata": {},
   "outputs": [],
   "source": [
    "def compute_clip_embeddings(text_list, batch_size=256):\n",
    "    embeddings = []\n",
    "    for i in range(0, len(text_list), batch_size):\n",
    "        batch = text_list[i:i + batch_size]\n",
    "        inputs = tokenizer(batch, padding=True, truncation=True, return_tensors=\"pt\")\n",
    "        with torch.no_grad():\n",
    "            batch_embeddings = model_clip.get_text_features(**inputs).cpu().numpy()\n",
    "        embeddings.append(batch_embeddings)\n",
    "    return np.vstack(embeddings)"
   ]
  },
  {
   "cell_type": "code",
   "execution_count": null,
   "metadata": {},
   "outputs": [],
   "source": [
    "def reduce_dimensionality(embeddings, method):\n",
    "    if method == 'pca':\n",
    "        pca = PCA(n_components=2)\n",
    "        reduced = pca.fit_transform(embeddings)\n",
    "    elif method == 'tsne':\n",
    "        tsne = TSNE(n_components=2, random_state=42)\n",
    "        reduced = tsne.fit_transform(embeddings)\n",
    "    return reduced"
   ]
  },
  {
   "cell_type": "code",
   "execution_count": null,
   "metadata": {},
   "outputs": [],
   "source": [
    "def plot_embeddings(embeddings, color_by, title, color_map='Viridis'):\n",
    "    # Convert color_by into a categorical type and get unique categories\n",
    "    categories = pd.Categorical(color_by)\n",
    "    category_codes = categories.codes\n",
    "    category_labels = categories.categories\n",
    "\n",
    "    # Create a DataFrame to hold embeddings and color info for plotting\n",
    "    df = pd.DataFrame(embeddings, columns=['x', 'y'])\n",
    "    df['category'] = categories\n",
    "\n",
    "    # Create scatter plot\n",
    "    fig = px.scatter(\n",
    "        df,\n",
    "        color='category',\n",
    "        title=title,\n",
    "        color_discrete_sequence=px.colors.qualitative.Plotly,  # or use color_map for continuous color scales\n",
    "        labels={'category': 'Category'}\n",
    "    )\n",
    "\n",
    "    # Customize the layout for a publication-style figure\n",
    "    fig.update_layout(\n",
    "        title=title,\n",
    "        title_x=0.5,\n",
    "        xaxis_title='',\n",
    "        yaxis_title='',\n",
    "        legend_title_text='Research area',\n",
    "        font=dict(family=\"Arial\", size=14),\n",
    "        width=800,\n",
    "        height=600,\n",
    "        xaxis=dict(showticklabels=False),\n",
    "        yaxis=dict(showticklabels=False),\n",
    "        showlegend=True,\n",
    "        margin=dict(t=50),\n",
    "    )\n",
    "\n",
    "\n",
    "    filename = title.lower().replace(' ', '_')\n",
    "    filepath = f'../plots/rq2/{filename}.png'\n",
    "    fig.write_image(filepath, width=1600, height=1200, scale=1)\n",
    "    # Display plot\n",
    "    fig.show()"
   ]
  },
  {
   "cell_type": "markdown",
   "metadata": {},
   "source": [
    "# Load Data"
   ]
  },
  {
   "cell_type": "code",
   "execution_count": null,
   "metadata": {},
   "outputs": [],
   "source": [
    "print('Load data')\n",
    "with open('../data/final_dataset.json', 'r') as f:\n",
    "    papers_data = json.load(f)\n",
    "\n",
    "df = pd.DataFrame(papers_data)\n",
    "print(f'Number of samples: {df.shape[0]}')\n",
    "\n",
    "titles = df['paper_title'].tolist()\n",
    "abstracts = df['abstract'].tolist()\n",
    "readmes = df['github_readme_content'].tolist()"
   ]
  },
  {
   "cell_type": "code",
   "execution_count": null,
   "metadata": {},
   "outputs": [],
   "source": [
    "print('Load data for somef decriptions')\n",
    "with open('../data/filtered_data.json', 'r') as f:\n",
    "    papers_data_somef = json.load(f)\n",
    "\n",
    "df_somef = pd.DataFrame(papers_data_somef)\n",
    "print(f'Number of samples: {df_somef.shape[0]}')\n",
    "\n",
    "somef = df_somef['somef_descriptions'].tolist()"
   ]
  },
  {
   "cell_type": "code",
   "execution_count": null,
   "metadata": {},
   "outputs": [],
   "source": [
    "print('Load data for github titles and keywords')\n",
    "with open('../data/filtered_data_complete.json', 'r') as f:\n",
    "    papers_data_complete = json.load(f)\n",
    "\n",
    "df_complete = pd.DataFrame(papers_data_complete)\n",
    "print(f'Number of samples: {df_complete.shape[0]}')\n",
    "github_title = df_complete['github_repo_title'].tolist()\n",
    "github_keywords = df_complete['github_keywords'].tolist()"
   ]
  },
  {
   "cell_type": "code",
   "execution_count": null,
   "metadata": {},
   "outputs": [],
   "source": [
    "sentence_embeddings_titles = compute_sentence_embeddings(titles)\n",
    "reduced_embeddings_titles = reduce_dimensionality(sentence_embeddings_titles, method='tsne')\n",
    "plot_embeddings(reduced_embeddings_titles, df['main_collection_area'], f'Sentence-BERT Embeddings (Titles #{len(titles)} ) - TSNE - Colored by Area', 'plasma')\n",
    "reduced_embeddings_titles = reduce_dimensionality(sentence_embeddings_titles, method='pca')\n",
    "plot_embeddings(reduced_embeddings_titles, df['main_collection_area'], f'Sentence-BERT Embeddings (Titles #{len(titles)} ) - PCA - Colored by Area', 'plasma')\n"
   ]
  },
  {
   "cell_type": "code",
   "execution_count": null,
   "metadata": {},
   "outputs": [],
   "source": [
    "sentence_embeddings_titles = compute_sentence_embeddings(titles)\n",
    "reduced_embeddings_titles = reduce_dimensionality(sentence_embeddings_titles, method='tsne')\n",
    "plot_embeddings(reduced_embeddings_titles, df['main_collection_area'], 'Sentence-BERT Embeddings (T-SNE) - Paper Titles', 'plasma')\n",
    "#reduced_embeddings_titles = reduce_dimensionality(sentence_embeddings_titles, method='pca')\n",
    "#plot_embeddings(reduced_embeddings_titles, df['main_collection_area'], 'Sentence-BERT Embeddings (PCA) - Paper Titles', 'plasma')"
   ]
  },
  {
   "cell_type": "code",
   "execution_count": null,
   "metadata": {},
   "outputs": [],
   "source": [
    "clip_embeddings_titles = compute_clip_embeddings(titles)\n",
    "reduced_clip_titles = reduce_dimensionality(clip_embeddings_titles, method='tsne')\n",
    "plot_embeddings(reduced_clip_titles, df['main_collection_area'], 'CLIP Embeddings (T-SNE) - Paper Titles', 'plasma')\n",
    "#reduced_clip_titles = reduce_dimensionality(clip_embeddings_titles, method='pca')\n",
    "#plot_embeddings(reduced_clip_titles, df['main_collection_area'], 'CLIP Embeddings (PCA) - Paper Titles', 'plasma')"
   ]
  },
  {
   "cell_type": "code",
   "execution_count": null,
   "metadata": {},
   "outputs": [],
   "source": [
    "abstracts_tfidf = compute_tfidf(abstracts)\n",
    "reduced_abstracts_tfidf = reduce_dimensionality(abstracts_tfidf, method='tsne')\n",
    "plot_embeddings(reduced_abstracts_tfidf, df['main_collection_area'], 'TF-IDF Embeddings (T-SNE) - Abstracts', 'plasma')\n",
    "#reduced_abstracts_tfidf = reduce_dimensionality(abstracts_tfidf, method='pca')\n",
    "#plot_embeddings(reduced_abstracts_tfidf, df['main_collection_area'], 'TF-IDF Embeddings (PCA) - Abstracts', 'plasma')"
   ]
  },
  {
   "cell_type": "code",
   "execution_count": null,
   "metadata": {},
   "outputs": [],
   "source": [
    "sentence_embeddings_abstracts = compute_sentence_embeddings(abstracts)\n",
    "reduced_embeddings_abstracts = reduce_dimensionality(sentence_embeddings_abstracts, method='tsne')\n",
    "plot_embeddings(reduced_embeddings_abstracts, df['main_collection_area'], 'Sentence-BERT Embeddings (T-SNE) - Abstracts', 'plasma')\n",
    "#reduced_embeddings_abstracts = reduce_dimensionality(sentence_embeddings_abstracts, method='pca')\n",
    "#plot_embeddings(reduced_embeddings_abstracts, df['main_collection_area'], 'Sentence-BERT Embeddings (PCA) - Abstracts', 'plasma')"
   ]
  },
  {
   "cell_type": "code",
   "execution_count": null,
   "metadata": {},
   "outputs": [],
   "source": [
    "clip_embeddings_abstracts = compute_clip_embeddings(abstracts)\n",
    "reduced_clip_abstracts = reduce_dimensionality(clip_embeddings_abstracts, method='tsne')\n",
    "plot_embeddings(reduced_clip_abstracts, df['main_collection_area'], 'CLIP Embeddings (T-SNE) - Abstracts', 'plasma')\n",
    "#reduced_clip_abstracts = reduce_dimensionality(clip_embeddings_abstracts, method='pca')\n",
    "#plot_embeddings(reduced_clip_abstracts, df['main_collection_area'], 'CLIP Embeddings (PCA) - Abstracts', 'plasma')"
   ]
  },
  {
   "cell_type": "code",
   "execution_count": null,
   "metadata": {},
   "outputs": [],
   "source": [
    "readmes_tfidf = compute_tfidf(readmes)\n",
    "reduced_readmes_tfids = reduce_dimensionality(readmes_tfidf, method='tsne')\n",
    "plot_embeddings(reduced_readmes_tfids, df['main_collection_area'], 'TF-IDF Embeddings (T-SNE) - READMEs', 'plasma')\n",
    "#reduced_readmes_tfids = reduce_dimensionality(readmes_tfidf, method='pca')\n",
    "#plot_embeddings(reduced_readmes_tfids, df['main_collection_area'], 'TF-IDF Embeddings (PCA) - READMEs', 'plasma')"
   ]
  },
  {
   "cell_type": "code",
   "execution_count": null,
   "metadata": {},
   "outputs": [],
   "source": [
    "sentence_embeddings_readmes = compute_sentence_embeddings(readmes)\n",
    "reduced_embeddings_readmes = reduce_dimensionality(sentence_embeddings_readmes, method='tsne')\n",
    "plot_embeddings(reduced_embeddings_readmes, df['main_collection_area'], 'Sentence-BERT Embeddings (T-SNE) - READMEs', 'plasma')\n",
    "#reduced_embeddings_readmes = reduce_dimensionality(sentence_embeddings_readmes, method='pca')\n",
    "#plot_embeddings(reduced_embeddings_readmes, df['main_collection_area'], 'Sentence-BERT Embeddings (PCA) - READMEs', 'plasma')"
   ]
  },
  {
   "cell_type": "code",
   "execution_count": null,
   "metadata": {},
   "outputs": [],
   "source": [
    "clip_embeddings_readmes = compute_clip_embeddings(readmes)\n",
    "reduced_clip_readmes = reduce_dimensionality(clip_embeddings_readmes, method='tsne')\n",
    "plot_embeddings(reduced_clip_readmes, df['main_collection_area'], 'CLIP Embeddings (T-SNE) - READMEs', 'plasma')\n",
    "#reduced_clip_readmes = reduce_dimensionality(clip_embeddings_readmes, method='pca')\n",
    "#plot_embeddings(reduced_clip_readmes, df['main_collection_area'], 'CLIP Embeddings (PCA) - READMEs', 'plasma')"
   ]
  },
  {
   "cell_type": "code",
   "execution_count": null,
   "metadata": {},
   "outputs": [],
   "source": [
    "somef_tfidf = compute_tfidf(somef)\n",
    "reduced_somef_tfids = reduce_dimensionality(somef_tfidf, method='tsne')\n",
    "plot_embeddings(reduced_somef_tfids, df_somef['main_collection_area'], 'TF-IDF Embeddings (T-SNE) - Descriptions', 'plasma')\n",
    "#reduced_somef_tfids = reduce_dimensionality(somef_tfidf, method='pca')\n",
    "#plot_embeddings(reduced_somef_tfids, df_somef['main_collection_area'], 'TF-IDF Embeddings (PCA) - Descriptions', 'plasma')"
   ]
  },
  {
   "cell_type": "code",
   "execution_count": null,
   "metadata": {},
   "outputs": [],
   "source": [
    "sentence_embeddings_somef = compute_sentence_embeddings(somef)\n",
    "reduced_embeddings_somef = reduce_dimensionality(sentence_embeddings_somef, method='tsne')\n",
    "plot_embeddings(reduced_embeddings_somef, df_somef['main_collection_area'], 'Sentence-BERT Embeddings (T-SNE) - Descriptions', 'plasma')\n",
    "#reduced_embeddings_somef = reduce_dimensionality(sentence_embeddings_somef, method='pca')\n",
    "#plot_embeddings(reduced_embeddings_somef, df_somef['main_collection_area'], 'Sentence-BERT Embeddings (PCA) - Descriptions', 'plasma')"
   ]
  },
  {
   "cell_type": "code",
   "execution_count": null,
   "metadata": {},
   "outputs": [],
   "source": [
    "clip_embeddings_somef = compute_clip_embeddings(somef)\n",
    "reduced_clip_somef = reduce_dimensionality(clip_embeddings_somef, method='tsne')\n",
    "plot_embeddings(reduced_clip_somef, df_somef['main_collection_area'], 'CLIP Embeddings (T-SNE) - Descriptions', 'plasma')\n",
    "#reduced_clip_somef = reduce_dimensionality(clip_embeddings_somef, method='pca')\n",
    "#plot_embeddings(reduced_clip_somef, df_somef['main_collection_area'], 'CLIP Embeddings (PCA) - Descriptions', 'plasma')"
   ]
  },
  {
   "cell_type": "code",
   "execution_count": null,
   "metadata": {},
   "outputs": [],
   "source": [
    "github_titles_tfidf = compute_tfidf(github_title)\n",
    "reduced_github_titles_tfids = reduce_dimensionality(github_titles_tfidf, method='tsne')\n",
    "plot_embeddings(reduced_github_titles_tfids, df_complete['main_collection_area'], 'TF-IDF Embeddings (T-SNE) - Titles', 'plasma')\n",
    "#reduced_github_titles_tfids = reduce_dimensionality(github_titles_tfidf, method='pca')\n",
    "#plot_embeddings(reduced_github_titles_tfids, df_complete['main_collection_area'], 'TF-IDF Embeddings (PCA) - Titles', 'plasma')"
   ]
  },
  {
   "cell_type": "code",
   "execution_count": null,
   "metadata": {},
   "outputs": [],
   "source": [
    "sentence_embeddings_github_titles = compute_sentence_embeddings(github_title)\n",
    "reduced_embeddings_github_titles = reduce_dimensionality(sentence_embeddings_github_titles, method='tsne')\n",
    "plot_embeddings(reduced_embeddings_github_titles, df_complete['main_collection_area'], 'Sentence-BERT Embeddings (T-SNE) - Titles', 'plasma')\n",
    "#reduced_embeddings_github_titles = reduce_dimensionality(sentence_embeddings_github_titles, method='pca')\n",
    "#plot_embeddings(reduced_embeddings_github_titles, df_complete['main_collection_area'], 'Sentence-BERT Embeddings (PCA) - Titles', 'plasma')"
   ]
  },
  {
   "cell_type": "code",
   "execution_count": null,
   "metadata": {},
   "outputs": [],
   "source": [
    "clip_embeddings_github_titles = compute_clip_embeddings(github_title)\n",
    "reduced_clip_github_titles = reduce_dimensionality(clip_embeddings_github_titles, method='tsne')\n",
    "plot_embeddings(reduced_clip_github_titles, df_complete['main_collection_area'], 'CLIP Embeddings (T-SNE) - Titles', 'plasma')\n",
    "#reduced_clip_github_titles = reduce_dimensionality(clip_embeddings_github_titles, method='pca')\n",
    "#plot_embeddings(reduced_clip_github_titles, df_complete['main_collection_area'], 'CLIP Embeddings (PCA) - Titles', 'plasma')"
   ]
  },
  {
   "cell_type": "code",
   "execution_count": null,
   "metadata": {},
   "outputs": [],
   "source": [
    "sentence_embeddings_github_keywords = compute_sentence_embeddings(github_keywords)\n",
    "reduced_embeddings_github_keywords = reduce_dimensionality(sentence_embeddings_github_keywords, method='tsne')\n",
    "plot_embeddings(reduced_embeddings_github_keywords, df_complete['main_collection_area'], 'Sentence-BERT Embeddings (T-SNE) - Keywords', 'plasma')\n",
    "#reduced_embeddings_github_keywords = reduce_dimensionality(sentence_embeddings_github_keywords, method='pca')\n",
    "#plot_embeddings(reduced_embeddings_github_keywords, df_complete['main_collection_area'], 'Sentence-BERT Embeddings (PCA) - Keywords', 'plasma')"
   ]
  },
  {
   "cell_type": "code",
   "execution_count": null,
   "metadata": {},
   "outputs": [],
   "source": [
    "clip_embeddings_github_keywords = compute_clip_embeddings(github_keywords)\n",
    "reduced_clip_github_keywords = reduce_dimensionality(clip_embeddings_github_keywords, method='tsne')\n",
    "plot_embeddings(reduced_clip_github_keywords, df_complete['main_collection_area'], 'CLIP Embeddings (T-SNE) - Keywords', 'plasma')\n",
    "#reduced_clip_github_keywords = reduce_dimensionality(clip_embeddings_github_keywords, method='pca')\n",
    "#plot_embeddings(reduced_clip_github_keywords, df_complete['main_collection_area'], 'CLIP Embeddings (PCA) - Keywords', 'plasma')"
   ]
  },
  {
   "cell_type": "code",
   "execution_count": null,
   "metadata": {},
   "outputs": [],
   "source": []
  },
  {
   "cell_type": "code",
   "execution_count": null,
   "metadata": {},
   "outputs": [],
   "source": []
  }
 ],
 "metadata": {
  "kernelspec": {
   "display_name": "Python 3",
   "language": "python",
   "name": "python3"
  },
  "language_info": {
   "codemirror_mode": {
    "name": "ipython",
    "version": 3
   },
   "file_extension": ".py",
   "mimetype": "text/x-python",
   "name": "python",
   "nbconvert_exporter": "python",
   "pygments_lexer": "ipython3",
   "version": "3.10.12"
  }
 },
 "nbformat": 4,
 "nbformat_minor": 2
}
